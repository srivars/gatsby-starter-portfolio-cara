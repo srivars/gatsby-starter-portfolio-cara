{
  "nbformat": 4,
  "nbformat_minor": 0,
  "metadata": {
    "colab": {
      "provenance": [],
      "authorship_tag": "ABX9TyMnPmMlQo0SdGuKO94srsWE",
      "include_colab_link": true
    },
    "kernelspec": {
      "name": "python3",
      "display_name": "Python 3"
    },
    "language_info": {
      "name": "python"
    }
  },
  "cells": [
    {
      "cell_type": "markdown",
      "metadata": {
        "id": "view-in-github",
        "colab_type": "text"
      },
      "source": [
        "<a href=\"https://colab.research.google.com/github/srivars/gatsby-starter-portfolio-cara/blob/main/music_recommendation.ipynb\" target=\"_parent\"><img src=\"https://colab.research.google.com/assets/colab-badge.svg\" alt=\"Open In Colab\"/></a>"
      ]
    },
    {
      "cell_type": "code",
      "execution_count": 1,
      "metadata": {
        "id": "rTIOg33N1UXN"
      },
      "outputs": [],
      "source": [
        "import os\n",
        "import numpy as np\n",
        "import pandas as pd\n",
        "\n",
        "import seaborn as sns\n",
        "import plotly.express as px \n",
        "import matplotlib.pyplot as plt\n",
        "%matplotlib inline\n",
        "\n",
        "from sklearn.cluster import KMeans\n",
        "from sklearn.preprocessing import StandardScaler\n",
        "from sklearn.pipeline import Pipeline\n",
        "from sklearn.manifold import TSNE\n",
        "from sklearn.decomposition import PCA\n",
        "from sklearn.metrics import euclidean_distances\n",
        "from scipy.spatial.distance import cdist\n",
        "\n",
        "import warnings\n",
        "warnings.filterwarnings(\"ignore\")"
      ]
    },
    {
      "cell_type": "code",
      "source": [
        "data = pd.read_csv(\"/content/music data spotify.csv\")\n",
        "genre_data = pd.read_csv('/content/music data spotify.csv')\n",
        "year_data = pd.read_csv('/content/music data spotify.csv')"
      ],
      "metadata": {
        "id": "QTI84wVWZKYJ"
      },
      "execution_count": 4,
      "outputs": []
    },
    {
      "cell_type": "code",
      "source": [
        "print(data.info())"
      ],
      "metadata": {
        "colab": {
          "base_uri": "https://localhost:8080/"
        },
        "id": "J7YMCaERZNg1",
        "outputId": "ceb467bb-8221-44f6-9593-fc140f10e5d8"
      },
      "execution_count": 5,
      "outputs": [
        {
          "output_type": "stream",
          "name": "stdout",
          "text": [
            "<class 'pandas.core.frame.DataFrame'>\n",
            "RangeIndex: 66326 entries, 0 to 66325\n",
            "Data columns (total 19 columns):\n",
            " #   Column            Non-Null Count  Dtype  \n",
            "---  ------            --------------  -----  \n",
            " 0   valence           66326 non-null  float64\n",
            " 1   year              66326 non-null  int64  \n",
            " 2   acousticness      66326 non-null  float64\n",
            " 3   artists           66326 non-null  object \n",
            " 4   danceability      66326 non-null  float64\n",
            " 5   duration_ms       66326 non-null  int64  \n",
            " 6   energy            66326 non-null  float64\n",
            " 7   explicit          66326 non-null  int64  \n",
            " 8   id                66326 non-null  object \n",
            " 9   instrumentalness  66326 non-null  float64\n",
            " 10  key               66326 non-null  int64  \n",
            " 11  liveness          66326 non-null  float64\n",
            " 12  loudness          66326 non-null  float64\n",
            " 13  mode              66326 non-null  int64  \n",
            " 14  name              66326 non-null  object \n",
            " 15  popularity        66326 non-null  int64  \n",
            " 16  release_date      66326 non-null  object \n",
            " 17  speechiness       66326 non-null  float64\n",
            " 18  tempo             66325 non-null  float64\n",
            "dtypes: float64(9), int64(6), object(4)\n",
            "memory usage: 9.6+ MB\n",
            "None\n"
          ]
        }
      ]
    },
    {
      "cell_type": "code",
      "source": [
        "print(genre_data.info())"
      ],
      "metadata": {
        "colab": {
          "base_uri": "https://localhost:8080/"
        },
        "id": "hwZ-gH_6bHZ6",
        "outputId": "0001744e-f51f-4ed4-cf0c-7a472c8a6057"
      },
      "execution_count": 6,
      "outputs": [
        {
          "output_type": "stream",
          "name": "stdout",
          "text": [
            "<class 'pandas.core.frame.DataFrame'>\n",
            "RangeIndex: 66326 entries, 0 to 66325\n",
            "Data columns (total 19 columns):\n",
            " #   Column            Non-Null Count  Dtype  \n",
            "---  ------            --------------  -----  \n",
            " 0   valence           66326 non-null  float64\n",
            " 1   year              66326 non-null  int64  \n",
            " 2   acousticness      66326 non-null  float64\n",
            " 3   artists           66326 non-null  object \n",
            " 4   danceability      66326 non-null  float64\n",
            " 5   duration_ms       66326 non-null  int64  \n",
            " 6   energy            66326 non-null  float64\n",
            " 7   explicit          66326 non-null  int64  \n",
            " 8   id                66326 non-null  object \n",
            " 9   instrumentalness  66326 non-null  float64\n",
            " 10  key               66326 non-null  int64  \n",
            " 11  liveness          66326 non-null  float64\n",
            " 12  loudness          66326 non-null  float64\n",
            " 13  mode              66326 non-null  int64  \n",
            " 14  name              66326 non-null  object \n",
            " 15  popularity        66326 non-null  int64  \n",
            " 16  release_date      66326 non-null  object \n",
            " 17  speechiness       66326 non-null  float64\n",
            " 18  tempo             66325 non-null  float64\n",
            "dtypes: float64(9), int64(6), object(4)\n",
            "memory usage: 9.6+ MB\n",
            "None\n"
          ]
        }
      ]
    },
    {
      "cell_type": "code",
      "source": [
        "print(year_data.info())"
      ],
      "metadata": {
        "colab": {
          "base_uri": "https://localhost:8080/"
        },
        "id": "rNE-ktv3bOVg",
        "outputId": "395068e9-e991-4415-dbd3-4ed63362e8b2"
      },
      "execution_count": 7,
      "outputs": [
        {
          "output_type": "stream",
          "name": "stdout",
          "text": [
            "<class 'pandas.core.frame.DataFrame'>\n",
            "RangeIndex: 66326 entries, 0 to 66325\n",
            "Data columns (total 19 columns):\n",
            " #   Column            Non-Null Count  Dtype  \n",
            "---  ------            --------------  -----  \n",
            " 0   valence           66326 non-null  float64\n",
            " 1   year              66326 non-null  int64  \n",
            " 2   acousticness      66326 non-null  float64\n",
            " 3   artists           66326 non-null  object \n",
            " 4   danceability      66326 non-null  float64\n",
            " 5   duration_ms       66326 non-null  int64  \n",
            " 6   energy            66326 non-null  float64\n",
            " 7   explicit          66326 non-null  int64  \n",
            " 8   id                66326 non-null  object \n",
            " 9   instrumentalness  66326 non-null  float64\n",
            " 10  key               66326 non-null  int64  \n",
            " 11  liveness          66326 non-null  float64\n",
            " 12  loudness          66326 non-null  float64\n",
            " 13  mode              66326 non-null  int64  \n",
            " 14  name              66326 non-null  object \n",
            " 15  popularity        66326 non-null  int64  \n",
            " 16  release_date      66326 non-null  object \n",
            " 17  speechiness       66326 non-null  float64\n",
            " 18  tempo             66325 non-null  float64\n",
            "dtypes: float64(9), int64(6), object(4)\n",
            "memory usage: 9.6+ MB\n",
            "None\n"
          ]
        }
      ]
    }
  ]
}